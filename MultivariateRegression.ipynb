{
  "nbformat": 4,
  "nbformat_minor": 0,
  "metadata": {
    "colab": {
      "provenance": []
    },
    "kernelspec": {
      "name": "python3",
      "display_name": "Python 3"
    },
    "language_info": {
      "name": "python"
    }
  },
  "cells": [
    {
      "cell_type": "code",
      "execution_count": null,
      "metadata": {
        "id": "CRNH_O8ORVY3"
      },
      "outputs": [],
      "source": [
        "import numpy as np\n",
        "from sklearn.linear_model import LinearRegression\n",
        "\n",
        "# Sample data\n",
        "# Independent variables (economic factors)\n",
        "X = np.array([\n",
        "    [2.5, 1.2, 3.0, 5.5],\n",
        "    [2.0, 1.8, 2.5, 6.0],\n",
        "    [3.0, 1.5, 2.7, 5.0],\n",
        "    [3.5, 1.1, 2.8, 5.0]\n",
        "])\n",
        "\n",
        "# Dependent variables (portfolio performance)\n",
        "Return = np.array([10.2, 9.5, 11.0, 9.0])\n",
        "Risk = np.array([15.0, 14.5, 13.8, 15.2])\n",
        "\n",
        "# Create a multivariate regression model\n",
        "model = LinearRegression()\n",
        "\n",
        "# Fit the model to the data\n",
        "model.fit(X, np.column_stack((Return, Risk)))\n",
        "\n",
        "# Predict portfolio performance for new economic factor values\n",
        "new_data = np.array([[2.8, 1.4, 2.8, 5.2]])  # New economic factors\n",
        "predictions = model.predict(new_data)\n",
        "\n",
        "# Print the predictions for Return and Risk\n",
        "predicted_return, predicted_risk = predictions[0]\n",
        "print(\"Predicted Return:\", predicted_return)\n",
        "print(\"Predicted Risk:\", predicted_risk)"
      ]
    }
  ]
}